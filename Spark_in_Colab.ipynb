{
  "nbformat": 4,
  "nbformat_minor": 0,
  "metadata": {
    "colab": {
      "provenance": [],
      "authorship_tag": "ABX9TyN4b0XdNLzqukFYQV8+CWcj",
      "include_colab_link": true
    },
    "kernelspec": {
      "name": "python3",
      "display_name": "Python 3"
    },
    "language_info": {
      "name": "python"
    }
  },
  "cells": [
    {
      "cell_type": "markdown",
      "metadata": {
        "id": "view-in-github",
        "colab_type": "text"
      },
      "source": [
        "<a href=\"https://colab.research.google.com/github/aaalexlit/medium_articles/blob/main/Spark_in_Colab.ipynb\" target=\"_parent\"><img src=\"https://colab.research.google.com/assets/colab-badge.svg\" alt=\"Open In Colab\"/></a>"
      ]
    },
    {
      "cell_type": "markdown",
      "source": [
        "# Prerequisites\n",
        "Sign up to https://ngrok.com/ to be able to reach Spark UI"
      ],
      "metadata": {
        "id": "EmXS59l00s7l"
      }
    },
    {
      "cell_type": "code",
      "execution_count": 1,
      "metadata": {
        "id": "RSaYGSm1gPO7"
      },
      "outputs": [],
      "source": [
        "%%capture\n",
        "!pip install pyspark\n",
        "!pip install findspark\n",
        "!pip install pyngrok"
      ]
    },
    {
      "cell_type": "code",
      "source": [
        "import findspark\n",
        "findspark.init()\n",
        "from pyspark.sql import SparkSession"
      ],
      "metadata": {
        "id": "PFKpzAaSgUjA"
      },
      "execution_count": 2,
      "outputs": []
    },
    {
      "cell_type": "code",
      "source": [
        "spark = SparkSession.builder \\\n",
        "        .appName('testColab') \\\n",
        "        .getOrCreate()"
      ],
      "metadata": {
        "id": "rVt1eyR1jHRT"
      },
      "execution_count": 3,
      "outputs": []
    },
    {
      "cell_type": "markdown",
      "source": [
        "# Start a tunnel to access SparkUI\n",
        "\n",
        "Open a ngrok tunnel to the HTTP server"
      ],
      "metadata": {
        "id": "swvWh17c1Ump"
      }
    },
    {
      "cell_type": "code",
      "source": [
        "from pyngrok import ngrok, conf\n",
        "import getpass\n",
        "\n",
        "print(\"Enter your authtoken, which can be copied \"\n",
        "\"from https://dashboard.ngrok.com/get-started/your-authtoken\")\n",
        "conf.get_default().auth_token = getpass.getpass()\n",
        "\n",
        "ui_port = 4040\n",
        "public_url = ngrok.connect(ui_port).public_url\n",
        "print(f\" * ngrok tunnel \\\"{public_url}\\\" -> \\\"http://127.0.0.1:{ui_port}\\\"\")"
      ],
      "metadata": {
        "colab": {
          "base_uri": "https://localhost:8080/"
        },
        "id": "ynYMotFwxGcX",
        "outputId": "0db504b3-74e1-4728-a307-6a8f32a03a6c"
      },
      "execution_count": 5,
      "outputs": [
        {
          "name": "stdout",
          "output_type": "stream",
          "text": [
            "Enter your authtoken, which can be copied from https://dashboard.ngrok.com/auth\n",
            "··········\n"
          ]
        },
        {
          "output_type": "stream",
          "name": "stderr",
          "text": [
            "WARNING:pyngrok.process.ngrok:t=2024-02-28T05:45:51+0000 lvl=warn msg=\"can't bind default web address, trying alternatives\" obj=web addr=127.0.0.1:4040\n"
          ]
        },
        {
          "output_type": "stream",
          "name": "stdout",
          "text": [
            " * ngrok tunnel \"https://54c2-34-148-37-210.ngrok-free.app\" -> \"http://127.0.0.1:4040\"\n"
          ]
        }
      ]
    },
    {
      "cell_type": "markdown",
      "source": [
        "## Download Yellow Taxi Trip records data, read it in with Spark, and count the number of rows\n",
        "\n",
        "Data source: https://www.nyc.gov/site/tlc/about/tlc-trip-record-data.page"
      ],
      "metadata": {
        "id": "84401itCkpCY"
      }
    },
    {
      "cell_type": "code",
      "source": [
        "from pyspark import SparkFiles\n",
        "\n",
        "file_url = 'https://d37ci6vzurychx.cloudfront.net/trip-data/yellow_tripdata_2023-07.parquet'\n",
        "spark.sparkContext.addFile(file_url)\n",
        "\n",
        "df = spark.read.csv(SparkFiles.get('yellow_tripdata_2023-07.parquet'), header=True)\n",
        "\n",
        "df.count()"
      ],
      "metadata": {
        "id": "vZaeQd0va3h1",
        "colab": {
          "base_uri": "https://localhost:8080/"
        },
        "outputId": "b41ad16d-8714-4376-89f7-8ad59606d4c3"
      },
      "execution_count": 6,
      "outputs": [
        {
          "output_type": "execute_result",
          "data": {
            "text/plain": [
              "377471"
            ]
          },
          "metadata": {},
          "execution_count": 6
        }
      ]
    },
    {
      "cell_type": "code",
      "source": [
        "# Optionally put the tunnel down\n",
        "ngrok.disconnect(public_url)"
      ],
      "metadata": {
        "id": "5iluhZqWyIPk",
        "outputId": "4047b63f-feed-46dc-e468-3d0f37517030",
        "colab": {
          "base_uri": "https://localhost:8080/"
        }
      },
      "execution_count": 7,
      "outputs": [
        {
          "output_type": "stream",
          "name": "stderr",
          "text": [
            "WARNING:pyngrok.process.ngrok:t=2024-02-28T05:50:46+0000 lvl=warn msg=\"Stopping forwarder\" name=http-4040-bdd76f6c-0c5e-4a7f-b697-5bdc222002d5 acceptErr=\"failed to accept connection: Listener closed\"\n"
          ]
        }
      ]
    },
    {
      "cell_type": "code",
      "source": [],
      "metadata": {
        "id": "uMrdM-zjQ_Bb"
      },
      "execution_count": null,
      "outputs": []
    }
  ]
}