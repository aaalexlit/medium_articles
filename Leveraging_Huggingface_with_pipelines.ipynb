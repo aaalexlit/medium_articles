{
  "nbformat": 4,
  "nbformat_minor": 0,
  "metadata": {
    "colab": {
      "provenance": [],
      "gpuType": "T4",
      "authorship_tag": "ABX9TyOrusc6GWygCc0D1t8wVRK2",
      "include_colab_link": true
    },
    "kernelspec": {
      "name": "python3",
      "display_name": "Python 3"
    },
    "language_info": {
      "name": "python"
    },
    "gpuClass": "standard"
  },
  "cells": [
    {
      "cell_type": "markdown",
      "metadata": {
        "id": "view-in-github",
        "colab_type": "text"
      },
      "source": [
        "<a href=\"https://colab.research.google.com/github/aaalexlit/medium_articles/blob/main/Leveraging_Huggingface_with_pipelines.ipynb\" target=\"_parent\"><img src=\"https://colab.research.google.com/assets/colab-badge.svg\" alt=\"Open In Colab\"/></a>"
      ]
    },
    {
      "cell_type": "markdown",
      "source": [
        "# Environment setup\n",
        "## Install required libraries and load extension"
      ],
      "metadata": {
        "id": "jLwh7yHCKi7Q"
      }
    },
    {
      "cell_type": "code",
      "source": [
        "%%capture\n",
        "!pip install transformers\n",
        "!pip install datasets\n",
        "!pip3 install memory_profiler\n",
        "%load_ext memory_profiler"
      ],
      "metadata": {
        "id": "s5g4bflloAaK"
      },
      "execution_count": 1,
      "outputs": []
    },
    {
      "cell_type": "markdown",
      "source": [
        "## Check if GPU is available and set everything to run on it if it's the case"
      ],
      "metadata": {
        "id": "jMDMyygUVmMd"
      }
    },
    {
      "cell_type": "code",
      "source": [
        "import torch\n",
        "\n",
        "if torch.cuda.is_available():\n",
        "  device = 0\n",
        "  torch_device = torch.device('cuda')\n",
        "else:\n",
        "  device = -1\n",
        "  torch_device = torch.device('cpu')"
      ],
      "metadata": {
        "id": "jbAi0sveVz9O"
      },
      "execution_count": 2,
      "outputs": []
    },
    {
      "cell_type": "markdown",
      "source": [
        "# Inference using original code"
      ],
      "metadata": {
        "id": "QoFZYFU-K0GY"
      }
    },
    {
      "cell_type": "code",
      "execution_count": 3,
      "metadata": {
        "id": "JHTC8nKzn7aw"
      },
      "outputs": [],
      "source": [
        "%%capture\n",
        "from transformers import AutoTokenizer, AutoModelForSequenceClassification\n",
        "\n",
        "model = AutoModelForSequenceClassification.from_pretrained(\"amandakonet/climatebert-fact-checking\")\n",
        "tokenizer = AutoTokenizer.from_pretrained(\"amandakonet/climatebert-fact-checking\")"
      ]
    },
    {
      "cell_type": "code",
      "source": [
        "sample_claim = ['Beginning in 2005, however, polar ice modestly receded for several years']\n",
        "sample_evidence = ['Polar Discovery \"Continued Sea Ice Decline in 2005']"
      ],
      "metadata": {
        "id": "2vLs_W2UvrkA"
      },
      "execution_count": 4,
      "outputs": []
    },
    {
      "cell_type": "code",
      "source": [
        "def predict_using_sample_code(claims, evidences):\n",
        "  features = tokenizer(claims,\n",
        "                       evidences,\n",
        "                       padding='max_length', \n",
        "                       truncation=True, \n",
        "                       return_tensors=\"pt\", \n",
        "                       max_length=512)\n",
        "  # if GPU is available the code will use it\n",
        "  features.to(torch_device)\n",
        "  model.to(torch_device)\n",
        "\n",
        "  model.eval()\n",
        "  with torch.no_grad():\n",
        "    scores = model(**features).logits\n",
        "    label_mapping = ['entailment', 'contradiction', 'neutral']\n",
        "    labels = [label_mapping[score_max] for score_max in scores.argmax(dim=1)]\n",
        "    return labels"
      ],
      "metadata": {
        "id": "nXID43WOv3Py"
      },
      "execution_count": 5,
      "outputs": []
    },
    {
      "cell_type": "markdown",
      "source": [
        "## Run inference on a provided sample"
      ],
      "metadata": {
        "id": "seY4vCWbLGte"
      }
    },
    {
      "cell_type": "code",
      "source": [
        "%%time\n",
        "%memit predict_using_sample_code(sample_claim, sample_evidence)"
      ],
      "metadata": {
        "colab": {
          "base_uri": "https://localhost:8080/"
        },
        "id": "JXYbFtD6XDf2",
        "outputId": "2002f2d7-10e4-464a-b1e0-6b48300287a4"
      },
      "execution_count": 8,
      "outputs": [
        {
          "output_type": "stream",
          "name": "stdout",
          "text": [
            "peak memory: 1400.44 MiB, increment: 11.71 MiB\n",
            "CPU times: user 1.24 s, sys: 140 ms, total: 1.38 s\n",
            "Wall time: 1.7 s\n"
          ]
        }
      ]
    },
    {
      "cell_type": "markdown",
      "source": [
        "## Load more samples"
      ],
      "metadata": {
        "id": "uMnABJoOKgla"
      }
    },
    {
      "cell_type": "code",
      "source": [
        "%%capture\n",
        "from datasets import load_dataset\n",
        "cf_df = load_dataset(\"amandakonet/climate_fever_adopted\", split='test').to_pandas()\n",
        "input_claims = cf_df['claim'].values.tolist()\n",
        "input_evidences = cf_df['evidence'].values.tolist()"
      ],
      "metadata": {
        "id": "fmMgTs5Dn8Wa"
      },
      "execution_count": 6,
      "outputs": []
    },
    {
      "cell_type": "code",
      "source": [
        "len(input_claims), len(input_evidences)"
      ],
      "metadata": {
        "colab": {
          "base_uri": "https://localhost:8080/"
        },
        "id": "rSg0m0OLLsYl",
        "outputId": "b41d1f6e-d2a8-44ed-a8d4-616f383d937c"
      },
      "execution_count": 10,
      "outputs": [
        {
          "output_type": "execute_result",
          "data": {
            "text/plain": [
              "(1535, 1535)"
            ]
          },
          "metadata": {},
          "execution_count": 10
        }
      ]
    },
    {
      "cell_type": "markdown",
      "source": [
        "The following cell normally kills the notebook with Out Of Memory  \n",
        "but that one time I ran it I got loads of RAM in the environment for some reason"
      ],
      "metadata": {
        "id": "LNtTdHZf0faP"
      }
    },
    {
      "cell_type": "code",
      "source": [
        "%%time\n",
        "%memit labels = predict_using_sample_code(input_claims, input_evidences)"
      ],
      "metadata": {
        "colab": {
          "base_uri": "https://localhost:8080/"
        },
        "id": "AaCxGyBK9CIt",
        "outputId": "50443a09-469e-43a2-d599-6d83c8cb9571"
      },
      "execution_count": null,
      "outputs": [
        {
          "output_type": "stream",
          "name": "stdout",
          "text": [
            "peak memory: 70648.12 MiB, increment: 52950.69 MiB\n",
            "CPU times: user 12min 46s, sys: 6min 37s, total: 19min 23s\n",
            "Wall time: 3min 48s\n"
          ]
        }
      ]
    },
    {
      "cell_type": "markdown",
      "source": [
        "# Use `transformers.pipeline` instead"
      ],
      "metadata": {
        "id": "8JqP9-acLRS7"
      }
    },
    {
      "cell_type": "code",
      "source": [
        "from transformers import pipeline\n",
        "\n",
        "def predict_using_pipelines(claims: [str], evidences: [str]) -> ([str], [float]):\n",
        "    def claim_evidence_pair_data():\n",
        "        for claim, evidence in zip(claims, evidences):\n",
        "            yield {\"text\": claim, \"text_pair\": evidence}\n",
        "\n",
        "    pipe = pipeline(\"text-classification\",\n",
        "                    model=model,\n",
        "                    tokenizer=tokenizer,\n",
        "                    truncation=True, \n",
        "                    padding=True, \n",
        "                    device=device)\n",
        "    labels, probs = [], []\n",
        "    for out in pipe(claim_evidence_pair_data(), batch_size=1):\n",
        "        labels.append(out['label'])\n",
        "        probs.append(out['score'])\n",
        "    return labels, probs"
      ],
      "metadata": {
        "id": "dkl5SH97wJ8U"
      },
      "execution_count": 7,
      "outputs": []
    },
    {
      "cell_type": "code",
      "source": [
        "%%time\n",
        "%memit pred_labels, pred_probs = predict_using_pipelines(input_claims, input_evidences)"
      ],
      "metadata": {
        "colab": {
          "base_uri": "https://localhost:8080/"
        },
        "id": "iKwDMQ92xiG0",
        "outputId": "39b70765-729e-41be-cfe7-d678943026f3"
      },
      "execution_count": 8,
      "outputs": [
        {
          "output_type": "stream",
          "name": "stdout",
          "text": [
            "peak memory: 1348.69 MiB, increment: 25.40 MiB\n",
            "CPU times: user 2min 18s, sys: 258 ms, total: 2min 18s\n",
            "Wall time: 2min 20s\n"
          ]
        }
      ]
    },
    {
      "cell_type": "code",
      "source": [],
      "metadata": {
        "id": "cJxrlbnYXD2i"
      },
      "execution_count": null,
      "outputs": []
    }
  ]
}