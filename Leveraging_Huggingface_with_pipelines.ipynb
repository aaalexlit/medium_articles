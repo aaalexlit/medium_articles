{
  "nbformat": 4,
  "nbformat_minor": 0,
  "metadata": {
    "colab": {
      "provenance": [],
      "gpuType": "A100",
      "authorship_tag": "ABX9TyM33sxo0J1YHfWjCvDYLLDD",
      "include_colab_link": true
    },
    "kernelspec": {
      "name": "python3",
      "display_name": "Python 3"
    },
    "language_info": {
      "name": "python"
    },
    "accelerator": "GPU",
    "gpuClass": "standard"
  },
  "cells": [
    {
      "cell_type": "markdown",
      "metadata": {
        "id": "view-in-github",
        "colab_type": "text"
      },
      "source": [
        "<a href=\"https://colab.research.google.com/github/aaalexlit/medium_articles/blob/main/Leveraging_Huggingface_with_pipelines.ipynb\" target=\"_parent\"><img src=\"https://colab.research.google.com/assets/colab-badge.svg\" alt=\"Open In Colab\"/></a>"
      ]
    },
    {
      "cell_type": "code",
      "source": [
        "%%capture\n",
        "!pip install transformers\n",
        "!pip install datasets"
      ],
      "metadata": {
        "id": "s5g4bflloAaK"
      },
      "execution_count": 7,
      "outputs": []
    },
    {
      "cell_type": "code",
      "source": [
        "%%capture\n",
        "!pip3 install memory_profiler\n",
        "%load_ext memory_profiler"
      ],
      "metadata": {
        "id": "ay6Qhmul8uy2"
      },
      "execution_count": 8,
      "outputs": []
    },
    {
      "cell_type": "code",
      "execution_count": 9,
      "metadata": {
        "id": "JHTC8nKzn7aw"
      },
      "outputs": [],
      "source": [
        "from transformers import AutoTokenizer, AutoModelForSequenceClassification\n",
        "import torch\n",
        "\n",
        "model = AutoModelForSequenceClassification.from_pretrained(\"amandakonet/climatebert-fact-checking\")\n",
        "tokenizer = AutoTokenizer.from_pretrained(\"amandakonet/climatebert-fact-checking\")"
      ]
    },
    {
      "cell_type": "code",
      "source": [
        "features = tokenizer(['Beginning in 2005, however, polar ice modestly receded for several years'], \n",
        "                   ['Polar Discovery \"Continued Sea Ice Decline in 2005'],  \n",
        "                   padding='max_length', truncation=True, return_tensors=\"pt\", max_length=512)\n",
        "\n",
        "model.eval()\n",
        "with torch.no_grad():\n",
        "   scores = model(**features).logits\n",
        "   label_mapping = ['entailment', 'contradiction', 'neutral']\n",
        "   labels = [label_mapping[score_max] for score_max in scores.argmax(dim=1)]\n",
        "   print(labels)"
      ],
      "metadata": {
        "colab": {
          "base_uri": "https://localhost:8080/"
        },
        "id": "2vLs_W2UvrkA",
        "outputId": "09b4295b-db66-4ad1-d9b9-e8e797b10c11"
      },
      "execution_count": 10,
      "outputs": [
        {
          "output_type": "stream",
          "name": "stdout",
          "text": [
            "['neutral']\n"
          ]
        }
      ]
    },
    {
      "cell_type": "code",
      "source": [
        "from datasets import load_dataset\n",
        "\n",
        "cf_df = load_dataset(\"amandakonet/climate_fever_adopted\", split='test').to_pandas()"
      ],
      "metadata": {
        "colab": {
          "base_uri": "https://localhost:8080/"
        },
        "id": "fmMgTs5Dn8Wa",
        "outputId": "2ec076fb-11e2-47bf-f01c-3ab368a08bcf"
      },
      "execution_count": 11,
      "outputs": [
        {
          "output_type": "stream",
          "name": "stderr",
          "text": [
            "WARNING:datasets.builder:Found cached dataset parquet (/root/.cache/huggingface/datasets/amandakonet___parquet/amandakonet--climate_fever_adopted-5a2eed1d355d5a34/0.0.0/2a3b91fbd88a2c90d1dbbb32b460cf621d31bd5b05b934492fdef7d8d6f236ec)\n"
          ]
        }
      ]
    },
    {
      "cell_type": "code",
      "source": [
        "input_claims = cf_df['claim'].values.tolist()\n",
        "input_evidences = cf_df['evidence'].values.tolist()"
      ],
      "metadata": {
        "id": "ALSoJ5c6u1j2"
      },
      "execution_count": 12,
      "outputs": []
    },
    {
      "cell_type": "code",
      "source": [
        "def predict_using_sample_code():\n",
        "  features = tokenizer(input_claims, \n",
        "                    input_evidences,  \n",
        "                    padding='max_length', truncation=True, return_tensors=\"pt\", max_length=512)\n",
        "\n",
        "  model.eval()\n",
        "  with torch.no_grad():\n",
        "    scores = model(**features).logits\n",
        "    label_mapping = ['entailment', 'contradiction', 'neutral']\n",
        "    labels = [label_mapping[score_max] for score_max in scores.argmax(dim=1)]\n",
        "    return labels"
      ],
      "metadata": {
        "id": "nXID43WOv3Py"
      },
      "execution_count": 18,
      "outputs": []
    },
    {
      "cell_type": "code",
      "source": [
        "from transformers import pipeline\n",
        "\n",
        "def predict_using_pipelienes(claims: [str], evidences: [str]) -> ([str], [float]):\n",
        "    def claim_evidence_pair_data():\n",
        "        for claim, evidence in zip(claims, evidences):\n",
        "            yield {\"text\": claim, \"text_pair\": evidence}\n",
        "\n",
        "    pipe = pipeline(\"text-classification\", model=model,\n",
        "                    tokenizer=tokenizer, device=-1,\n",
        "                    truncation=True, padding=True)\n",
        "    labels = []\n",
        "    probs = []\n",
        "    for out in pipe(claim_evidence_pair_data(), batch_size=1):\n",
        "        labels.append(out['label'])\n",
        "        probs.append(out['score'])\n",
        "    return labels, probs"
      ],
      "metadata": {
        "id": "dkl5SH97wJ8U"
      },
      "execution_count": 13,
      "outputs": []
    },
    {
      "cell_type": "code",
      "source": [
        "# execution time without xformers on CPU is 4m21s\n",
        "%%time\n",
        "%memit pred_labels, pred_probs = predict_using_pipelienes(input_claims, input_evidences)"
      ],
      "metadata": {
        "colab": {
          "base_uri": "https://localhost:8080/"
        },
        "id": "iKwDMQ92xiG0",
        "outputId": "bd8dd1d9-0df0-4823-ce56-51f6ae8d8d85"
      },
      "execution_count": 14,
      "outputs": [
        {
          "output_type": "stream",
          "name": "stderr",
          "text": [
            "Xformers is not installed correctly. If you want to use memorry_efficient_attention to accelerate training use the following command to install Xformers\n",
            "pip install xformers.\n"
          ]
        },
        {
          "output_type": "stream",
          "name": "stdout",
          "text": [
            "peak memory: 1552.07 MiB, increment: 11.77 MiB\n",
            "CPU times: user 4min 18s, sys: 2.92 s, total: 4min 21s\n",
            "Wall time: 44.1 s\n"
          ]
        }
      ]
    },
    {
      "cell_type": "code",
      "source": [
        "%%capture\n",
        "!pip install xformers"
      ],
      "metadata": {
        "id": "o4yxH8J90uTl"
      },
      "execution_count": null,
      "outputs": []
    },
    {
      "cell_type": "markdown",
      "source": [
        "Xformers improves memory usage drastically\n",
        "\n"
      ],
      "metadata": {
        "id": "OtET3Bn97k_1"
      }
    },
    {
      "cell_type": "code",
      "source": [
        "%%time\n",
        "%memit pred_labels, pred_probs = predict_using_pipelienes(input_claims, input_evidences)"
      ],
      "metadata": {
        "colab": {
          "base_uri": "https://localhost:8080/"
        },
        "id": "dzOynhxvyHPY",
        "outputId": "2c020b22-4e13-4d79-9513-1d9ded9c133b"
      },
      "execution_count": 16,
      "outputs": [
        {
          "output_type": "stream",
          "name": "stdout",
          "text": [
            "peak memory: 1552.35 MiB, increment: 0.25 MiB\n",
            "CPU times: user 4min 18s, sys: 2.93 s, total: 4min 21s\n",
            "Wall time: 43.9 s\n"
          ]
        }
      ]
    },
    {
      "cell_type": "markdown",
      "source": [
        "The following cell might kill the notebook"
      ],
      "metadata": {
        "id": "LNtTdHZf0faP"
      }
    },
    {
      "cell_type": "code",
      "source": [
        "%%time\n",
        "%memit labels = predict_using_sample_code()"
      ],
      "metadata": {
        "colab": {
          "base_uri": "https://localhost:8080/"
        },
        "id": "AaCxGyBK9CIt",
        "outputId": "50443a09-469e-43a2-d599-6d83c8cb9571"
      },
      "execution_count": 19,
      "outputs": [
        {
          "output_type": "stream",
          "name": "stdout",
          "text": [
            "peak memory: 70648.12 MiB, increment: 52950.69 MiB\n",
            "CPU times: user 12min 46s, sys: 6min 37s, total: 19min 23s\n",
            "Wall time: 3min 48s\n"
          ]
        }
      ]
    },
    {
      "cell_type": "code",
      "source": [],
      "metadata": {
        "id": "wAIZryUyICNS"
      },
      "execution_count": null,
      "outputs": []
    }
  ]
}